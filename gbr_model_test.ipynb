{
 "cells": [
  {
   "cell_type": "code",
   "execution_count": 12,
   "id": "425c7ceb-17f9-4ec1-bf99-9379c55187f7",
   "metadata": {},
   "outputs": [],
   "source": [
    "import joblib\n",
    "import numpy as np\n",
    "from sklearn import metrics\n",
    "import pandas as pd\n",
    "import matplotlib.pyplot as plt\n",
    "from sklearn.metrics import r2_score, mean_squared_error, mean_absolute_error"
   ]
  },
  {
   "cell_type": "code",
   "execution_count": 13,
   "id": "a3929b76-ef1e-4e22-8b1b-fe76305c7b66",
   "metadata": {},
   "outputs": [],
   "source": [
    "def rmse(y_true, y_predictions): \n",
    "    return round(np.sqrt(metrics.mean_squared_error(y_true, y_predictions)), 4)\n",
    "\n",
    "def rmse_std(y_true, y_predictions): \n",
    "    return round(rmse(y_true, y_predictions) / np.std(y_true), 4)\n",
    "\n",
    "def mae(y_true, y_predictions): \n",
    "    return round(metrics.mean_absolute_error(y_true, y_predictions), 4)\n",
    "\n",
    "def r2(y_true, y_predictions): \n",
    "    return round(metrics.r2_score(y_true, y_predictions), 4)\n",
    "\n",
    "def parity_plot(y_true, y_predictions, title, filename):\n",
    "    plt.figure(figsize=(6, 6))\n",
    "    sns.set_style(\"whitegrid\")\n",
    "    sns.set_context(\"paper\", font_scale=1.5)\n",
    "    plt.xlim(40, 160)\n",
    "    plt.ylim(40, 160)\n",
    "    \n",
    "    colorscheme = ['red' if abs(true - pred) > 5 else 'darkgreen' for true, pred in zip(y_true, y_predictions)]\n",
    "    plt.scatter(y_true, y_predictions, c=colorscheme, alpha=0.9, linewidths=2, marker =\"o\")\n",
    "    \n",
    "    plt.plot([40, 160], [40, 160], 'k--', lw=2)\n",
    "    plt.fill_between([40, 160], [50, 170], [30, 150], color='grey', alpha=0.1)\n",
    "    plt.xlabel(r'$\\Delta E_{DFT}^{\\ddag}$', fontsize=16, fontweight='bold')\n",
    "    plt.ylabel(r'$\\Delta E_{ML}^{\\ddag}$', fontsize=16, fontweight='bold')\n",
    "\n",
    "    plt.xticks(fontsize=14, fontweight='bold')\n",
    "    plt.yticks(fontsize=14, fontweight='bold')\n",
    "    \n",
    "    legend_elements = [Line2D([0], [0], color='darkgreen', marker='o', linestyle='', label='Prediction'),\n",
    "                       Line2D([0], [0], color='black', linestyle='--', lw=2, label='Ideal')]\n",
    "    plt.legend(handles=legend_elements, frameon=True)\n",
    "\n",
    "    \n",
    "    # plt.title(title)\n",
    "    # plt.legend([\"Prediction\", \"Ideal\"], frameon=True)\n",
    "    \n",
    "    plt.savefig(filename, dpi=500, bbox_inches='tight')\n",
    "    plt.show()\n",
    "\n",
    "\n",
    "def parity_stats_side_by_side(y_left_true,Y_left_predictions,y_right_true,Y_right_predictions,title_left,title_right):\n",
    "    \n",
    "    rmse_left = rmse(y_left_true,Y_left_predictions)\n",
    "    rmse_std_left = rmse_std(y_left_true,Y_left_predictions)\n",
    "    mae_left = mae(y_left_true,Y_left_predictions)\n",
    "    r2_left = r2(y_left_true,Y_left_predictions)\n",
    "    \n",
    "    rmse_right = rmse(y_right_true,Y_right_predictions)\n",
    "    rmse_std_right = rmse_std(y_right_true,Y_right_predictions)\n",
    "    mae_right = mae(y_right_true,Y_right_predictions)\n",
    "    r2_right = r2(y_right_true,Y_right_predictions)\n",
    "    \n",
    "    stats_df = pd.DataFrame({'Error Metric' : ['RMSE', 'RMSE/std', 'MAE', 'R2'], \n",
    "                             title_left : [str(rmse_left) + \" (kJ/mol)\", rmse_std_left, str(mae_left) + \" (kJ/mol)\", r2_left],\n",
    "                             title_right: [str(rmse_right) + \" (kJ/mol)\", rmse_std_right, str(mae_right) + \" (kJ/mol)\", r2_right],\n",
    "                             'Note' : ['(0.0 for perfect prediction)', '(0.0 for perfect prediction)','(0.0 for perfect prediction)','(1.0 for perfect prediction)']})\n",
    "    return stats_df\n",
    "\n"
   ]
  },
  {
   "cell_type": "code",
   "execution_count": 14,
   "id": "740a58ed-d861-462c-849a-76fd6a9789b6",
   "metadata": {},
   "outputs": [
    {
     "name": "stdout",
     "output_type": "stream",
     "text": [
      "Catalyst: 7_och3_no2, DFT: 74.4, Predicted: 71.81058914350318, Difference: -2.5894108564968263\n",
      "Catalyst: iminch32, DFT: 94.0, Predicted: 89.60240678326328, Difference: -4.397593216736723\n",
      "Catalyst: 1C_7, DFT: 53.3, Predicted: 56.93751813238503, Difference: 3.6375181323850327\n",
      "Catalyst: 2C_19, DFT: 79.7, Predicted: 74.91373101485962, Difference: -4.7862689851403815\n",
      "Catalyst: DA2_th_th, DFT: 79.7, Predicted: 81.98766377202563, Difference: 2.287663772025624\n"
     ]
    },
    {
     "data": {
      "image/png": "[encoded data removed]",
      "text/plain": [
       "<Figure size 500x500 with 1 Axes>"
      ]
     },
     "metadata": {},
     "output_type": "display_data"
    },
    {
     "name": "stdout",
     "output_type": "stream",
     "text": [
      "R2: 0.9224187339997588\n",
      "MAE: 3.5396909925569178\n"
     ]
    }
   ],
   "source": [
    "# Load the model from the file\n",
    "gbr_model = joblib.load('gbr_model.pkl')\n",
    "\n",
    "df2 = pd.read_csv('DataTest.csv')\n",
    "df2['theta12'] = df2['theta1'] + df2['theta2']\n",
    "# Prepare the features for prediction\n",
    "features_df2 = df2.drop([ 'Folder', 'Barrier', 'theta1', 'theta2'], axis=1)\n",
    "\n",
    "# Make predictions\n",
    "predictions_test12 = gbr_model.predict(features_df2)\n",
    "\n",
    "# Calculate differences\n",
    "differences = predictions_test12 - df2['Barrier']\n",
    "\n",
    "# Print Folder, Actual, Predicted, and Difference\n",
    "for folder, actual, predicted, difference in zip(df2['Folder'], df2['Barrier'], predictions_test12, differences):\n",
    "    print(f\"Catalyst: {folder}, DFT: {actual}, Predicted: {predicted}, Difference: {difference}\")\n",
    "\n",
    "# Plotting\n",
    "plt.style.use('default')\n",
    "plt.figure(figsize=(5, 5))\n",
    "plt.scatter(df2['Barrier'], predictions_test12, color='blue', alpha=0.9, linewidths=2, marker =\"o\")\n",
    "plt.plot([40, 160], [40, 160], color='red', linestyle='-', linewidth=1, markersize=12)\n",
    "plt.xlim(40, 160)\n",
    "plt.ylim(40, 160)\n",
    "plt.fill_between([40, 160], [50, 170], [30, 150], color='grey', alpha=0.2)\n",
    "plt.xlabel(r'$\\Delta E_{DFT}^{\\ddag}$', fontsize=14)\n",
    "plt.ylabel(r'$\\Delta E_{ML}^{\\ddag}$', fontsize=14)\n",
    "plt.show()\n",
    "\n",
    "# Calculate R2 and MAE\n",
    "r2 = r2_score(df2['Barrier'], predictions_test12)\n",
    "mae = mean_absolute_error(df2['Barrier'], predictions_test12)\n",
    "\n",
    "print('R2:', r2)\n",
    "print('MAE:', mae)\n"
   ]
  },
  {
   "cell_type": "code",
   "execution_count": null,
   "id": "43abbe2c-e8d4-4a36-b08d-bfaf039a8be0",
   "metadata": {},
   "outputs": [],
   "source": []
  }
 ],
 "metadata": {
  "kernelspec": {
   "display_name": "Python 3 (ipykernel)",
   "language": "python",
   "name": "python3"
  },
  "language_info": {
   "codemirror_mode": {
    "name": "ipython",
    "version": 3
   },
   "file_extension": ".py",
   "mimetype": "text/x-python",
   "name": "python",
   "nbconvert_exporter": "python",
   "pygments_lexer": "ipython3",
   "version": "3.11.5"
  }
 },
 "nbformat": 4,
 "nbformat_minor": 5
}
