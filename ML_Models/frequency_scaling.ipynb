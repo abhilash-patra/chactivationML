{
 "cells": [
  {
   "cell_type": "code",
   "execution_count": 6,
   "id": "e96c984d-a061-4d0f-ae83-381c954a8aef",
   "metadata": {},
   "outputs": [
    {
     "name": "stdout",
     "output_type": "stream",
     "text": [
      "Transformed data saved to testset2_B3LYP-D3_6-311+g*_scaled.csv\n"
     ]
    }
   ],
   "source": [
    "import pandas as pd\n",
    "\n",
    "# Load the CSV file\n",
    "file_path = 'testset2_B3LYP-D3_6-311+g*.csv'  # Update this to your file path\n",
    "data = pd.read_csv(file_path)\n",
    "\n",
    "# Define the scaling factors\n",
    "scaling_factor_initial = 0.967  # For B3LYP/6-311+G*\n",
    "scaling_factor_target = 0.957  # For wB97X-D/6-311+G*\n",
    "\n",
    "# Select the columns to be scaled (assuming columns 2, 3, 4, and 5 are 1-based indexing, which means columns 1, 2, 3, and 4 in 0-based indexing)\n",
    "columns_to_scale = data.columns[1:5]\n",
    "\n",
    "# Apply the scaling transformation\n",
    "for column in columns_to_scale:\n",
    "    data[column] = (data[column] * (scaling_factor_target / scaling_factor_initial)).round(3)\n",
    "    # data[column] = (data[column] * (scaling_factor_initial / scaling_factor_target)).round(3)\n",
    "\n",
    "# Save the transformed data to a new CSV file\n",
    "output_file_path = 'testset2_B3LYP-D3_6-311+g*_scaled.csv'  # Update this to your desired output path\n",
    "data.to_csv(output_file_path, index=False)\n",
    "\n",
    "print(f\"Transformed data saved to {output_file_path}\")\n"
   ]
  },
  {
   "cell_type": "code",
   "execution_count": 7,
   "id": "935c308b-eb16-40f2-9ea6-44bbf0a75dbe",
   "metadata": {},
   "outputs": [
    {
     "name": "stdout",
     "output_type": "stream",
     "text": [
      "Transformed data saved to testset3_wB97X-D_631g*_scaled.csv\n"
     ]
    }
   ],
   "source": [
    "file_path = 'testset3_wB97X-D_631g*.csv'\n",
    "data2 = pd.read_csv(file_path)\n",
    "\n",
    "# Define the scaling factors\n",
    "scaling_factor_initial_2 = 0.949  # For wB97X-D/6-31g*\n",
    "scaling_factor_target_2 = 0.957  # For wB97X-D/6-311+G*\n",
    "\n",
    "# Select the columns to be scaled (assuming columns 2, 3, 4, and 5 are 1-based indexing, which means columns 1, 2, 3, and 4 in 0-based indexing)\n",
    "columns_to_scale_2 = data2.columns[1:5]\n",
    "\n",
    "# Apply the scaling transformation\n",
    "for column in columns_to_scale_2:\n",
    "    data2[column] = (data2[column] * (scaling_factor_target_2 / scaling_factor_initial_2)).round(3)\n",
    "    # data2[column] = (data2[column] * (scaling_factor_initial_2 / scaling_factor_target_2)).round(3)\n",
    "\n",
    "# Save the transformed data to a new CSV file\n",
    "output_file_path_2 = 'testset3_wB97X-D_631g*_scaled.csv'  # Update this to your desired output path\n",
    "data2.to_csv(output_file_path_2, index=False)\n",
    "\n",
    "print(f\"Transformed data saved to {output_file_path_2}\")"
   ]
  },
  {
   "cell_type": "code",
   "execution_count": null,
   "id": "5bcf29fe-95eb-414a-a904-1b37c3762a3d",
   "metadata": {},
   "outputs": [],
   "source": []
  }
 ],
 "metadata": {
  "kernelspec": {
   "display_name": "Python 3 (ipykernel)",
   "language": "python",
   "name": "python3"
  },
  "language_info": {
   "codemirror_mode": {
    "name": "ipython",
    "version": 3
   },
   "file_extension": ".py",
   "mimetype": "text/x-python",
   "name": "python",
   "nbconvert_exporter": "python",
   "pygments_lexer": "ipython3",
   "version": "3.11.5"
  }
 },
 "nbformat": 4,
 "nbformat_minor": 5
}
